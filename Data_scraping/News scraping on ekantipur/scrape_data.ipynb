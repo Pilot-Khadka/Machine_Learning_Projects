{
 "cells": [
  {
   "cell_type": "code",
   "execution_count": 1,
   "id": "ea9a513d-38b9-4f78-919e-af09aec7999b",
   "metadata": {},
   "outputs": [
    {
     "name": "stdout",
     "output_type": "stream",
     "text": [
      "News Categories on ekantipur.com:\n",
      "Category Name: समाचार\n",
      "Category URL: https://ekantipur.com/news\n",
      "Category Name: अर्थ / वाणिज्य\n",
      "Category URL: https://ekantipur.com/business\n",
      "Category Name: विचार\n",
      "Category URL: https://ekantipur.com/opinion\n",
      "Category Name: खेलकुद\n",
      "Category URL: https://ekantipur.com/sports\n",
      "Category Name: उपत्यका\n",
      "Category URL: https://ekantipur.com/national\n",
      "Category Name: मनोरञ्जन\n",
      "Category URL: https://ekantipur.com/entertainment\n",
      "Category Name: फोटोफिचर\n",
      "Category URL: https://ekantipur.com/photo_feature\n",
      "Category Name: फिचर\n",
      "Category URL: https://ekantipur.com/feature\n",
      "Category Name: विश्व\n",
      "Category URL: https://ekantipur.com/world\n",
      "Category Name: ब्लग\n",
      "Category URL: https://ekantipur.com/blog\n",
      "Category Name: कोसेली\n",
      "Category URL: https://ekantipur.com/koseli\n",
      "Category Name: प्रवास\n",
      "Category URL: https://ekantipur.com/diaspora\n",
      "Category Name: शिक्षा\n",
      "Category URL: https://ekantipur.com/Education\n"
     ]
    }
   ],
   "source": [
    "import os\n",
    "import json\n",
    "import requests\n",
    "from bs4 import BeautifulSoup\n",
    "\n",
    "def get_news_categories(url):\n",
    "    response = requests.get(url)\n",
    "    soup = BeautifulSoup(response.content, 'html.parser')\n",
    "    categories = []\n",
    "  \n",
    "    # print(soup.prettify())\n",
    "    \n",
    "    # Extract news categories using the specified class name\n",
    "    category_elements = soup.find_all('li', class_='nav-item')\n",
    "\n",
    "    for category_element in category_elements:\n",
    "        category_name = category_element.text.strip()\n",
    "        category_url = category_element.find('a')['href']\n",
    "        categories.append({'name': category_name, 'url': category_url})\n",
    "\n",
    "    return categories\n",
    "\n",
    "ekantipur_url = 'https://www.ekantipur.com/'\n",
    "\n",
    "if os.path.exists('categories.json'):\n",
    "    # Get news categories from ekantipur.com\n",
    "    news_categories = get_news_categories(ekantipur_url)\n",
    "\n",
    "    # Save categories to a json file\n",
    "    with open('categories.json', 'w') as json_file:\n",
    "        json.dump(news_categories, json_file, ensure_ascii=False, indent=4)\n",
    "else:\n",
    "    # Load the categories from the JSON file\n",
    "    with open('categories.json', 'r') as json_file:\n",
    "        news_categories = json.load(json_file)\n",
    "        \n",
    "print(\"News Categories on ekantipur.com:\")\n",
    "for category in news_categories:\n",
    "    print(f\"Category Name: {category['name']}\")\n",
    "    print(f\"Category URL: {category['url']}\")\n"
   ]
  },
  {
   "cell_type": "code",
   "execution_count": 2,
   "id": "08762281-e3f8-43bc-abc6-d4063ea5ab75",
   "metadata": {},
   "outputs": [
    {
     "name": "stdout",
     "output_type": "stream",
     "text": [
      "{'name': 'समाचार', 'url': 'https://ekantipur.com/news'}\n",
      "https://ekantipur.com/news\n"
     ]
    }
   ],
   "source": [
    "print(news_categories[0])\n",
    "news = news_categories[0]\n",
    "url = news['url']\n",
    "print(url)"
   ]
  },
  {
   "cell_type": "code",
   "execution_count": 3,
   "id": "dad43ee3-3b27-4c31-9106-fa7c021ee6e6",
   "metadata": {},
   "outputs": [
    {
     "name": "stdout",
     "output_type": "stream",
     "text": [
      "URL: /news/2023/11/01/after-the-street-protests-were-criticized-prime-minister-dahal-said-media-spread-false-propaganda-45-54.html\n",
      "Text: सडक प्रदर्शनको आलोचना भएपछि प्रधानमन्त्री दाहालले भने- 'मिडियाले गलत प्रचार गरे'\n",
      "---\n",
      "URL: /news/2023/11/01/proportional-parliamentarians-violated-the-constitution-speaker-lamichhane-43-07.html\n",
      "Text: समानुपातिक सांसद बनाउँदा संविधान उल्लंघन भयो : सभापति लामिछाने\n",
      "---\n",
      "URL: /news/2023/11/01/proportional-election-system-should-be-considered-president-kc-32-47.html\n",
      "Text: समानुपातिक निर्वाचन प्रणालीको औचित्यमाथि पुनर्विचार गरौं : अध्यक्ष केसी\n",
      "---\n",
      "URL: /news/2023/11/01/prime-minister-dahal-and-president-deuba-participated-in-umls-tea-party-25-17.html\n",
      "Text: एमालेको चियापनमा प्रधानमन्त्री दाहाल र सभापति देउवा सहभागी\n",
      "---\n",
      "URL: /news/2023/11/01/call-for-complaints-against-proposed-ambassador-to-canada-bharatraj-paudyal-07-43.html\n",
      "Text: क्यानडाका लागि प्रस्तावित राजदूत भरतराज पौड्यालउपर उजुरी आह्वान\n",
      "---\n",
      "URL: /news/2023/11/01/bangladeshs-saima-wazed-elected-as-who-regional-director-13-28.html\n",
      "Text: डब्लूएचओको क्षेत्रीय निर्देशकमा बंगलादेशकी साइमा वाजेद निर्वाचित\n",
      "---\n",
      "URL: /news/2023/11/01/asai-who-was-returning-from-the-annapurna-base-camp-under-the-protection-of-secretary-general-guterres-died-after-being-hit-by-a-lake-11-15.html\n",
      "Text: महासचिव गुटेरेसको सुरक्षामा अन्नपूर्ण आधार शिविर पुगेर फर्किंदै गरेका असईको लेक लागेर मृत्यु\n",
      "---\n",
      "URL: /news/2023/11/01/meeting-between-minister-of-finance-mahat-and-british-minister-of-state-for-foreign-affairs-ann-mary-50-58.html\n",
      "Text: अर्थमन्त्री महत र बेलायतकी परराष्ट्र राज्यमन्त्री आनमेरीबीच भेटवार्ता\n",
      "---\n",
      "URL: /news/2023/11/01/passionate-about-cancer-survivors-03-20.html\n",
      "Text: क्यान्सर जित्नेहरूका जोसिला कुरा\n",
      "---\n",
      "URL: /news/2023/11/01/earnings-were-stolen-on-the-way-59-55.html\n",
      "Text: मजदुरीको कमाइ बाटोमै लुटियो\n",
      "---\n",
      "URL: /news/2023/11/01/secretary-general-guterres-returned-after-completing-a-four-day-visit-47-41.html\n",
      "Text: चारदिने भ्रमण पूरा गरी फर्किए महासचिव गुटेरेस\n",
      "---\n",
      "URL: /news/2023/11/01/nepalese-climbers-on-africas-highest-peak-31-10.html\n",
      "Text: नेपाली आरोही अफ्रिकाको सर्वोच्च शिखरमा\n",
      "---\n",
      "URL: /news/2023/11/01/waste-of-crores-of-investment-in-cold-storage-30-03.html\n",
      "Text: शीत भण्डारमा करोडौं लगानी खेर\n",
      "---\n",
      "URL: /news/2023/11/01/demonstrations-demanding-an-end-to-tyranny-of-the-palestinian-people-26-55.html\n",
      "Text: 'प्यालेस्टिनी जनतामाथि अत्याचार' रोक्न माग गर्दै प्रदर्शन\n",
      "---\n",
      "URL: /news/2023/11/01/discussions-between-foreign-minister-saud-and-the-head-of-the-us-cooperation-agency-16-30.html\n",
      "Text: परराष्ट्रमन्त्री साउद र अमेरिकी सहयोग नियोग प्रमुखबीच छलफल\n",
      "---\n",
      "URL: /news/2023/11/01/election-of-who-regional-director-today-40-35.html\n",
      "Text: डब्लूएचओ क्षेत्रीय निर्देशकको चुनाव आज\n",
      "---\n",
      "URL: /news/2023/11/01/foreign-ministers-visit-to-america-emphasis-on-strengthening-bilateral-partnership-32-19.html\n",
      "Text: परराष्ट्रमन्त्रीको अमेरिका भ्रमण : दुईदेशीय साझेदारी सुदृढीकरणमा जोड\n",
      "---\n",
      "URL: /news/2023/11/01/3-main-messages-of-the-un-secretary-general-17-53.html\n",
      "Text: राष्ट्रसंघ महासचिवका मुख्य ३ सन्देश\n",
      "---\n",
      "URL: /news/2023/11/01/express-bus-service-shut-down-within-a-month-01-11.html\n",
      "Text: द्रुत बस सेवा महिना दिनमै बन्द\n",
      "---\n",
      "URL: /news/2023/11/01/lunch-of-4-lakh-34-thousand-students-was-taken-away-53-42.html\n",
      "Text: ४ लाख ३४ हजार विद्यार्थीको खाजा खोसियो\n",
      "---\n"
     ]
    }
   ],
   "source": [
    "url = 'https://ekantipur.com/news'\n",
    "response = requests.get(url)\n",
    "soup = BeautifulSoup(response.content, 'html.parser')\n",
    "# print(soup.prettify())\n",
    "\n",
    "# Extract links and their corresponding text\n",
    "links_with_text = []\n",
    "seen_links = set()\n",
    "\n",
    "for link in soup.find_all('a', href=True):\n",
    "    if link['href'].startswith('/news'):\n",
    "        link_url = link['href']\n",
    "        link_text = link.text.strip()\n",
    "        if link_url not in seen_links and link_text:\n",
    "                links_with_text.append({'url': link_url, 'text': link_text})\n",
    "                seen_links.add(link_url)\n",
    "# Print extracted links and their corresponding text\n",
    "for link_info in links_with_text:\n",
    "    print(\"URL:\", link_info['url'])\n",
    "    print(\"Text:\", link_info['text'])\n",
    "    print(\"---\")"
   ]
  },
  {
   "cell_type": "code",
   "execution_count": 4,
   "id": "431d78de-8a36-47b8-a95b-e48479e26498",
   "metadata": {},
   "outputs": [
    {
     "name": "stdout",
     "output_type": "stream",
     "text": [
      "['https://ekantipur.com/news', 'https://ekantipur.com/business', 'https://ekantipur.com/opinion', 'https://ekantipur.com/sports', 'https://ekantipur.com/national', 'https://ekantipur.com/entertainment', 'https://ekantipur.com/photo_feature', 'https://ekantipur.com/feature', 'https://ekantipur.com/world', 'https://ekantipur.com/blog', 'https://ekantipur.com/koseli', 'https://ekantipur.com/diaspora', 'https://ekantipur.com/Education']\n"
     ]
    }
   ],
   "source": [
    "all_url = [category['url'] for category in news_categories]\n",
    "print(all_url)"
   ]
  },
  {
   "cell_type": "code",
   "execution_count": 22,
   "id": "cf666df6-594b-49ea-9fa2-b1ee37ff06ca",
   "metadata": {},
   "outputs": [],
   "source": [
    "def get_links(news_categories):\n",
    "    m_link = \"https://ekantipur.com\"\n",
    "    links_with_text = []\n",
    "    seen_links = set()\n",
    "\n",
    "    categories=['/news','/business','/opinion','/sports','/national','/entertainment','/world','/Education']\n",
    "    \n",
    "    for category in news_categories:\n",
    "        url = category['url']\n",
    "        category_name = category['name']\n",
    "        \n",
    "        response = requests.get(url)\n",
    "        soup = BeautifulSoup(response.content, 'html.parser')\n",
    "        \n",
    "        # Extract links and their corresponding text\n",
    "        for link in soup.find_all('a', href=True):\n",
    "            for cat in categories:\n",
    "                if link['href'].startswith(cat):\n",
    "                    link_url = link['href']\n",
    "                    link_text = link.text.strip()\n",
    "                    if link_url not in seen_links and link_text:\n",
    "                            data = extract_content(m_link+link_url)\n",
    "                            links_with_text.append({'url': m_link+link_url, 'title': link_text, 'paragraph':data,'category': category_name})\n",
    "                            seen_links.add(link_url)\n",
    "\n",
    "    return links_with_text\n",
    "\n",
    "df = get_links(news_categories)\n"
   ]
  },
  {
   "cell_type": "code",
   "execution_count": 21,
   "id": "f92a22c6-f70f-4193-88dd-fdca9f4dd7f3",
   "metadata": {},
   "outputs": [
    {
     "name": "stdout",
     "output_type": "stream",
     "text": [
      "https://ekantipur.com/news/2023/11/01/an-understanding-has-been-reached-between-the-major-parties-regarding-transitional-justice-prime-minister-dahal-03-09.html\n"
     ]
    }
   ],
   "source": [
    "def extract_content(url):\n",
    "    response = requests.get(url)\n",
    "    soup = BeautifulSoup(response.content, 'html.parser')\n",
    "    # print(soup.prettify())\n",
    "    # Find the meta tag with name=\"description\" and extract its content attribute\n",
    "    meta_tag = soup.find('meta', attrs={'name': 'description'})\n",
    "    \n",
    "    if meta_tag:\n",
    "        description_content = meta_tag.get('content')\n",
    "    else:\n",
    "        print(\"Meta tag with name='description' not found.\")\n",
    "    return description_content\n"
   ]
  },
  {
   "cell_type": "code",
   "execution_count": 23,
   "id": "63f9adb6-2648-4698-bfa8-f0c9012c1b32",
   "metadata": {},
   "outputs": [
    {
     "name": "stdout",
     "output_type": "stream",
     "text": [
      "CSV file exported successfully.\n"
     ]
    },
    {
     "data": {
      "text/html": [
       "<div>\n",
       "<style scoped>\n",
       "    .dataframe tbody tr th:only-of-type {\n",
       "        vertical-align: middle;\n",
       "    }\n",
       "\n",
       "    .dataframe tbody tr th {\n",
       "        vertical-align: top;\n",
       "    }\n",
       "\n",
       "    .dataframe thead th {\n",
       "        text-align: right;\n",
       "    }\n",
       "</style>\n",
       "<table border=\"1\" class=\"dataframe\">\n",
       "  <thead>\n",
       "    <tr style=\"text-align: right;\">\n",
       "      <th></th>\n",
       "      <th>url</th>\n",
       "      <th>title</th>\n",
       "      <th>paragraph</th>\n",
       "      <th>category</th>\n",
       "    </tr>\n",
       "  </thead>\n",
       "  <tbody>\n",
       "    <tr>\n",
       "      <th>0</th>\n",
       "      <td>https://ekantipur.com/news/2023/11/01/an-under...</td>\n",
       "      <td>संक्रमणकालीन न्याय सम्बन्धमा प्रमुख दलहरुबीच स...</td>\n",
       "      <td>प्रधानमन्त्री पुष्पकमल दाहालले संक्रमणकालीन न्...</td>\n",
       "      <td>समाचार</td>\n",
       "    </tr>\n",
       "    <tr>\n",
       "      <th>1</th>\n",
       "      <td>https://ekantipur.com/news/2023/11/01/after-th...</td>\n",
       "      <td>सडक प्रदर्शनको आलोचना भएपछि प्रधानमन्त्री दाहा...</td>\n",
       "      <td>सरकारमा बसेर सडक प्रदर्शन गर्न लागेको भन्दै आल...</td>\n",
       "      <td>समाचार</td>\n",
       "    </tr>\n",
       "    <tr>\n",
       "      <th>2</th>\n",
       "      <td>https://ekantipur.com/news/2023/11/01/proporti...</td>\n",
       "      <td>समानुपातिक सांसद बनाउँदा संविधान उल्लंघन भयो :...</td>\n",
       "      <td>राष्ट्रिय स्वतन्त्र पार्टीका सभापति रवि लामिछा...</td>\n",
       "      <td>समाचार</td>\n",
       "    </tr>\n",
       "    <tr>\n",
       "      <th>3</th>\n",
       "      <td>https://ekantipur.com/news/2023/11/01/proporti...</td>\n",
       "      <td>समानुपातिक निर्वाचन प्रणालीको औचित्यमाथि पुनर्...</td>\n",
       "      <td>राष्ट्रिय जनमोर्चाका अध्यक्ष चित्रबहादुर केसील...</td>\n",
       "      <td>समाचार</td>\n",
       "    </tr>\n",
       "    <tr>\n",
       "      <th>4</th>\n",
       "      <td>https://ekantipur.com/news/2023/11/01/prime-mi...</td>\n",
       "      <td>एमालेको चियापनमा प्रधानमन्त्री दाहाल र सभापति ...</td>\n",
       "      <td>प्रधानमन्त्री पुष्पकमल दाहाल, नेपाली कांग्रेसक...</td>\n",
       "      <td>समाचार</td>\n",
       "    </tr>\n",
       "  </tbody>\n",
       "</table>\n",
       "</div>"
      ],
      "text/plain": [
       "                                                 url  \\\n",
       "0  https://ekantipur.com/news/2023/11/01/an-under...   \n",
       "1  https://ekantipur.com/news/2023/11/01/after-th...   \n",
       "2  https://ekantipur.com/news/2023/11/01/proporti...   \n",
       "3  https://ekantipur.com/news/2023/11/01/proporti...   \n",
       "4  https://ekantipur.com/news/2023/11/01/prime-mi...   \n",
       "\n",
       "                                               title  \\\n",
       "0  संक्रमणकालीन न्याय सम्बन्धमा प्रमुख दलहरुबीच स...   \n",
       "1  सडक प्रदर्शनको आलोचना भएपछि प्रधानमन्त्री दाहा...   \n",
       "2  समानुपातिक सांसद बनाउँदा संविधान उल्लंघन भयो :...   \n",
       "3  समानुपातिक निर्वाचन प्रणालीको औचित्यमाथि पुनर्...   \n",
       "4  एमालेको चियापनमा प्रधानमन्त्री दाहाल र सभापति ...   \n",
       "\n",
       "                                           paragraph category  \n",
       "0  प्रधानमन्त्री पुष्पकमल दाहालले संक्रमणकालीन न्...   समाचार  \n",
       "1  सरकारमा बसेर सडक प्रदर्शन गर्न लागेको भन्दै आल...   समाचार  \n",
       "2  राष्ट्रिय स्वतन्त्र पार्टीका सभापति रवि लामिछा...   समाचार  \n",
       "3  राष्ट्रिय जनमोर्चाका अध्यक्ष चित्रबहादुर केसील...   समाचार  \n",
       "4  प्रधानमन्त्री पुष्पकमल दाहाल, नेपाली कांग्रेसक...   समाचार  "
      ]
     },
     "execution_count": 23,
     "metadata": {},
     "output_type": "execute_result"
    }
   ],
   "source": [
    "import pandas as pd\n",
    "df = pd.DataFrame(df)\n",
    "\n",
    "# Export the DataFrame to a CSV file\n",
    "df.to_csv('output.csv', index=False)\n",
    "\n",
    "print(\"CSV file exported successfully.\")\n",
    "df.head()\n"
   ]
  },
  {
   "cell_type": "code",
   "execution_count": null,
   "id": "5394b45e-a0c1-419c-bd45-f1b24b31fc94",
   "metadata": {},
   "outputs": [],
   "source": []
  }
 ],
 "metadata": {
  "kernelspec": {
   "display_name": "Python 3 (ipykernel)",
   "language": "python",
   "name": "python3"
  },
  "language_info": {
   "codemirror_mode": {
    "name": "ipython",
    "version": 3
   },
   "file_extension": ".py",
   "mimetype": "text/x-python",
   "name": "python",
   "nbconvert_exporter": "python",
   "pygments_lexer": "ipython3",
   "version": "3.8.17"
  }
 },
 "nbformat": 4,
 "nbformat_minor": 5
}
